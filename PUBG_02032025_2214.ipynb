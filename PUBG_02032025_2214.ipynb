{
  "cells": [
    {
      "cell_type": "code",
      "execution_count": 1,
      "metadata": {
        "id": "BPOI0cjDFsGZ"
      },
      "outputs": [],
      "source": [
        "#importing libraries\n",
        "\n",
        "import pandas as pd\n",
        "import numpy as np\n",
        "import matplotlib.pyplot as plt\n",
        "import seaborn as sns\n",
        "%matplotlib inline"
      ]
    },
    {
      "cell_type": "code",
      "execution_count": 2,
      "metadata": {
        "id": "uZXEiiVu3ejc"
      },
      "outputs": [],
      "source": [
        "import pyspark\n",
        "from pyspark.sql import SparkSession\n",
        "spark=SparkSession.builder.appName('Dataframe').getOrCreate()"
      ]
    },
    {
      "cell_type": "code",
      "execution_count": 3,
      "metadata": {
        "colab": {
          "base_uri": "https://localhost:8080/",
          "height": 219
        },
        "id": "W-i6jQjd-1HK",
        "outputId": "3ab6447c-ba28-4635-be17-d3fb408397be"
      },
      "outputs": [
        {
          "output_type": "execute_result",
          "data": {
            "text/plain": [
              "<pyspark.sql.session.SparkSession at 0x7bb01c509ad0>"
            ],
            "text/html": [
              "\n",
              "            <div>\n",
              "                <p><b>SparkSession - in-memory</b></p>\n",
              "                \n",
              "        <div>\n",
              "            <p><b>SparkContext</b></p>\n",
              "\n",
              "            <p><a href=\"http://89475db2160f:4040\">Spark UI</a></p>\n",
              "\n",
              "            <dl>\n",
              "              <dt>Version</dt>\n",
              "                <dd><code>v3.5.4</code></dd>\n",
              "              <dt>Master</dt>\n",
              "                <dd><code>local[*]</code></dd>\n",
              "              <dt>AppName</dt>\n",
              "                <dd><code>Dataframe</code></dd>\n",
              "            </dl>\n",
              "        </div>\n",
              "        \n",
              "            </div>\n",
              "        "
            ]
          },
          "metadata": {},
          "execution_count": 3
        }
      ],
      "source": [
        "spark"
      ]
    },
    {
      "cell_type": "code",
      "execution_count": 4,
      "metadata": {
        "colab": {
          "base_uri": "https://localhost:8080/"
        },
        "id": "AEVz9loK6e_l",
        "outputId": "ddae2d1e-e6e0-4e16-e9c3-4195f0cc6b04"
      },
      "outputs": [
        {
          "output_type": "stream",
          "name": "stdout",
          "text": [
            "+--------------+--------------+--------------+-------+------+-----------+-----+-------------+-----+---------+----------+-----+-----------+-----------+-------------+---------+--------+---------+----------+-------+------------+---------+------------+---------+---------------+------------+---------------+---------+------------+\n",
            "|            Id|       groupId|       matchId|assists|boosts|damageDealt|DBNOs|headshotKills|heals|killPlace|killPoints|kills|killStreaks|longestKill|matchDuration|matchType|maxPlace|numGroups|rankPoints|revives|rideDistance|roadKills|swimDistance|teamKills|vehicleDestroys|walkDistance|weaponsAcquired|winPoints|winPlacePerc|\n",
            "+--------------+--------------+--------------+-------+------+-----------+-----+-------------+-----+---------+----------+-----+-----------+-----------+-------------+---------+--------+---------+----------+-------+------------+---------+------------+---------+---------------+------------+---------------+---------+------------+\n",
            "|7f96b2f878858a|4d4b580de459be|a10357fd1a4a91|      0|     0|        0.0|    0|            0|    0|       60|      1241|    0|          0|        0.0|         1306|squad-fpp|      28|       26|        -1|      0|         0.0|        0|         0.0|        0|              0|       244.8|              1|     1466|      0.4444|\n",
            "|eef90569b9d03c|684d5656442f9e|aeb375fc57110c|      0|     0|      91.47|    0|            0|    0|       57|         0|    0|          0|        0.0|         1777|squad-fpp|      26|       25|      1484|      0|      0.0045|        0|       11.04|        0|              0|      1434.0|              5|        0|        0.64|\n",
            "|1eaf90ac73de72|6a4a42c3245a74|110163d8bb94ae|      1|     0|       68.0|    0|            0|    0|       47|         0|    0|          0|        0.0|         1318|      duo|      50|       47|      1491|      0|         0.0|        0|         0.0|        0|              0|       161.8|              2|        0|      0.7755|\n",
            "|4616d365dd2853|a930a9c79cd721|f1f1f4ef412d7e|      0|     0|       32.9|    0|            0|    0|       75|         0|    0|          0|        0.0|         1436|squad-fpp|      31|       30|      1408|      0|         0.0|        0|         0.0|        0|              0|       202.7|              3|        0|      0.1667|\n",
            "|315c96c26c9aac|de04010b3458dd|6dc8ff871e21e6|      0|     0|      100.0|    0|            0|    0|       45|         0|    1|          1|      58.53|         1424| solo-fpp|      97|       95|      1560|      0|         0.0|        0|         0.0|        0|              0|       49.75|              2|        0|      0.1875|\n",
            "|ff79c12f326506|289a6836a88d27|bac52627a12114|      0|     0|      100.0|    1|            1|    0|       44|         0|    1|          1|      18.44|         1395|squad-fpp|      28|       28|      1418|      0|         0.0|        0|         0.0|        0|              0|        34.7|              1|        0|       0.037|\n",
            "|95959be0e21ca3|2c485a1ad3d0f1|a8274e903927a2|      0|     0|        0.0|    0|            0|    0|       96|      1262|    0|          0|        0.0|         1316|squad-fpp|      28|       28|        -1|      0|         0.0|        0|         0.0|        0|              0|        13.5|              1|     1497|         0.0|\n",
            "|311b84c6ff4390|eaba5fcb7fc1ae|292611730ca862|      0|     0|      8.538|    0|            0|    0|       48|      1000|    0|          0|        0.0|         1967| solo-fpp|      96|       92|        -1|      0|      2004.0|        0|         0.0|        0|              0|      1089.0|              6|     1500|      0.7368|\n",
            "|1a68204ccf9891|47cfbb04e1b1a2|df014fbee741c6|      0|     0|       51.6|    0|            0|    0|       64|         0|    0|          0|        0.0|         1375|    squad|      28|       27|      1493|      0|         0.0|        0|         0.0|        0|              0|       799.9|              4|        0|      0.3704|\n",
            "|e5bb5a43587253|759bb6f7514fd2|3d3031c795305b|      0|     0|      37.27|    0|            0|    0|       74|         0|    0|          0|        0.0|         1930|    squad|      29|       27|      1349|      0|         0.0|        0|         0.0|        0|              0|       65.67|              1|        0|      0.2143|\n",
            "|2b574d43972813|c549efede67ad3|2dd6ddb8320fc1|      0|     0|      28.38|    0|            0|    0|       75|         0|    0|          0|        0.0|         1811|squad-fpp|      29|       29|      1475|      0|         0.0|        0|         0.0|        0|              0|       868.3|              9|        0|      0.3929|\n",
            "|8de328a74658a9|f643df9df3877c|80170383d90003|      0|     0|      137.9|    1|            0|    0|       64|         0|    0|          0|        0.0|         1384|  duo-fpp|      48|       46|      1488|      0|         0.0|        0|         0.0|        0|              0|       451.7|              1|        0|      0.4043|\n",
            "|ce4f6ac165705e|da24cdb91969cc|535b5dbd965a94|      0|     0|        0.0|    0|            0|    0|       37|         0|    0|          0|        0.0|         1774|squad-fpp|      29|       28|      1766|      0|      6639.0|        0|         0.0|        0|              0|      2784.0|              6|        0|      0.9286|\n",
            "|b7807186e3f679|3c08e461874749|2c30ddf481c52d|      0|     1|      324.2|    0|            1|    5|        5|       986|    4|          1|      49.83|         1886| solo-fpp|      97|       94|        -1|      0|      1228.0|        0|       76.84|        0|              0|      2050.0|              6|     1462|       0.875|\n",
            "|8e244ac61b6aab|d40d0c7d3573a1|94e1c1cc443c65|      0|     1|      122.8|    1|            0|    2|       25|      1411|    1|          1|      37.91|         1458|squad-fpp|      31|       30|        -1|      1|      1237.0|        0|       60.29|        0|              0|      1666.0|              5|     1531|         0.9|\n",
            "|12d8d4bd94312c|fe52d481bae68b|6fd9e765ddd0c5|      0|     0|      80.71|    1|            0|    0|       72|         0|    0|          0|        0.0|         1313|  duo-fpp|      48|       48|      1495|      1|         0.0|        0|         0.0|        0|              0|       105.1|              5|        0|      0.2766|\n",
            "|62f2f0917d84b2|f61b698274d9f5|1d6cfe0f6f23b0|      0|     2|      81.71|    1|            0|   14|       25|         0|    1|          1|      9.158|         1882|squad-fpp|      27|       26|      1436|      0|       519.9|        0|         0.0|        0|              0|      3674.0|              7|        0|      0.7308|\n",
            "|92022479b92ce7|2f2c33f548c4b9|07948d723b9c0f|      0|     3|      254.3|    0|            0|   12|       13|         0|    2|          1|       36.0|         1371| solo-fpp|      96|       95|      1536|      0|      2367.0|        0|       15.29|        0|              0|      1787.0|              3|        0|      0.8211|\n",
            "|7bd224781f064b|6dde607d151819|733af30cc00099|      0|     0|        0.0|    0|            0|    0|       79|         0|    0|          0|        0.0|         1301|squad-fpp|      27|       26|      1355|      0|         0.0|        0|         0.0|        0|              0|       137.4|              2|        0|      0.1923|\n",
            "|71cbdbc3b263e5|7b61f74b51906c|a329ac99449ad7|      0|     1|      65.28|    0|            0|    1|       48|      1349|    0|          0|        0.0|         1322|squad-fpp|      30|       28|         0|      0|         0.0|        0|       20.85|        0|              0|      3310.0|              3|     1479|       0.931|\n",
            "+--------------+--------------+--------------+-------+------+-----------+-----+-------------+-----+---------+----------+-----+-----------+-----------+-------------+---------+--------+---------+----------+-------+------------+---------+------------+---------+---------------+------------+---------------+---------+------------+\n",
            "only showing top 20 rows\n",
            "\n"
          ]
        }
      ],
      "source": [
        "## read the dataset\n",
        "df=spark.read.csv('/content/drive/MyDrive/Colab Notebooks/pubg.csv',header=True,inferSchema=True)\n",
        "df.show()\n",
        "# inferSchema=True, If false every data will be considered as string"
      ]
    },
    {
      "cell_type": "code",
      "execution_count": 5,
      "metadata": {
        "id": "GzNMTOYr_NDw",
        "colab": {
          "base_uri": "https://localhost:8080/"
        },
        "outputId": "6119faed-bb0a-4233-ac52-6317424e0fe6"
      },
      "outputs": [
        {
          "output_type": "stream",
          "name": "stdout",
          "text": [
            "root\n",
            " |-- Id: string (nullable = true)\n",
            " |-- groupId: string (nullable = true)\n",
            " |-- matchId: string (nullable = true)\n",
            " |-- assists: integer (nullable = true)\n",
            " |-- boosts: integer (nullable = true)\n",
            " |-- damageDealt: double (nullable = true)\n",
            " |-- DBNOs: integer (nullable = true)\n",
            " |-- headshotKills: integer (nullable = true)\n",
            " |-- heals: integer (nullable = true)\n",
            " |-- killPlace: integer (nullable = true)\n",
            " |-- killPoints: integer (nullable = true)\n",
            " |-- kills: integer (nullable = true)\n",
            " |-- killStreaks: integer (nullable = true)\n",
            " |-- longestKill: double (nullable = true)\n",
            " |-- matchDuration: integer (nullable = true)\n",
            " |-- matchType: string (nullable = true)\n",
            " |-- maxPlace: integer (nullable = true)\n",
            " |-- numGroups: integer (nullable = true)\n",
            " |-- rankPoints: integer (nullable = true)\n",
            " |-- revives: integer (nullable = true)\n",
            " |-- rideDistance: double (nullable = true)\n",
            " |-- roadKills: integer (nullable = true)\n",
            " |-- swimDistance: double (nullable = true)\n",
            " |-- teamKills: integer (nullable = true)\n",
            " |-- vehicleDestroys: integer (nullable = true)\n",
            " |-- walkDistance: double (nullable = true)\n",
            " |-- weaponsAcquired: integer (nullable = true)\n",
            " |-- winPoints: integer (nullable = true)\n",
            " |-- winPlacePerc: double (nullable = true)\n",
            "\n"
          ]
        }
      ],
      "source": [
        "### Check the schema\n",
        "df.printSchema() #Like df.info()"
      ]
    },
    {
      "cell_type": "code",
      "execution_count": 6,
      "metadata": {
        "id": "2WDvKHi17y4X",
        "colab": {
          "base_uri": "https://localhost:8080/",
          "height": 186
        },
        "outputId": "83c26a7d-b456-41e9-ff19-6bbdd472b38f"
      },
      "outputs": [
        {
          "output_type": "execute_result",
          "data": {
            "text/plain": [
              "pyspark.sql.dataframe.DataFrame"
            ],
            "text/html": [
              "<div style=\"max-width:800px; border: 1px solid var(--colab-border-color);\"><style>\n",
              "      pre.function-repr-contents {\n",
              "        overflow-x: auto;\n",
              "        padding: 8px 12px;\n",
              "        max-height: 500px;\n",
              "      }\n",
              "\n",
              "      pre.function-repr-contents.function-repr-contents-collapsed {\n",
              "        cursor: pointer;\n",
              "        max-height: 100px;\n",
              "      }\n",
              "    </style>\n",
              "    <pre style=\"white-space: initial; background:\n",
              "         var(--colab-secondary-surface-color); padding: 8px 12px;\n",
              "         border-bottom: 1px solid var(--colab-border-color);\"><b>pyspark.sql.dataframe.DataFrame</b><br/>def __init__(jdf: JavaObject, sql_ctx: Union[&#x27;SQLContext&#x27;, &#x27;SparkSession&#x27;])</pre><pre class=\"function-repr-contents function-repr-contents-collapsed\" style=\"\"><a class=\"filepath\" style=\"display:none\" href=\"#\">/usr/local/lib/python3.11/dist-packages/pyspark/sql/dataframe.py</a>A distributed collection of data grouped into named columns.\n",
              "\n",
              ".. versionadded:: 1.3.0\n",
              "\n",
              ".. versionchanged:: 3.4.0\n",
              "    Supports Spark Connect.\n",
              "\n",
              "Examples\n",
              "--------\n",
              "A :class:`DataFrame` is equivalent to a relational table in Spark SQL,\n",
              "and can be created using various functions in :class:`SparkSession`:\n",
              "\n",
              "&gt;&gt;&gt; people = spark.createDataFrame([\n",
              "...     {&quot;deptId&quot;: 1, &quot;age&quot;: 40, &quot;name&quot;: &quot;Hyukjin Kwon&quot;, &quot;gender&quot;: &quot;M&quot;, &quot;salary&quot;: 50},\n",
              "...     {&quot;deptId&quot;: 1, &quot;age&quot;: 50, &quot;name&quot;: &quot;Takuya Ueshin&quot;, &quot;gender&quot;: &quot;M&quot;, &quot;salary&quot;: 100},\n",
              "...     {&quot;deptId&quot;: 2, &quot;age&quot;: 60, &quot;name&quot;: &quot;Xinrong Meng&quot;, &quot;gender&quot;: &quot;F&quot;, &quot;salary&quot;: 150},\n",
              "...     {&quot;deptId&quot;: 3, &quot;age&quot;: 20, &quot;name&quot;: &quot;Haejoon Lee&quot;, &quot;gender&quot;: &quot;M&quot;, &quot;salary&quot;: 200}\n",
              "... ])\n",
              "\n",
              "Once created, it can be manipulated using the various domain-specific-language\n",
              "(DSL) functions defined in: :class:`DataFrame`, :class:`Column`.\n",
              "\n",
              "To select a column from the :class:`DataFrame`, use the apply method:\n",
              "\n",
              "&gt;&gt;&gt; age_col = people.age\n",
              "\n",
              "A more concrete example:\n",
              "\n",
              "&gt;&gt;&gt; # To create DataFrame using SparkSession\n",
              "... department = spark.createDataFrame([\n",
              "...     {&quot;id&quot;: 1, &quot;name&quot;: &quot;PySpark&quot;},\n",
              "...     {&quot;id&quot;: 2, &quot;name&quot;: &quot;ML&quot;},\n",
              "...     {&quot;id&quot;: 3, &quot;name&quot;: &quot;Spark SQL&quot;}\n",
              "... ])\n",
              "\n",
              "&gt;&gt;&gt; people.filter(people.age &gt; 30).join(\n",
              "...     department, people.deptId == department.id).groupBy(\n",
              "...     department.name, &quot;gender&quot;).agg({&quot;salary&quot;: &quot;avg&quot;, &quot;age&quot;: &quot;max&quot;}).show()\n",
              "+-------+------+-----------+--------+\n",
              "|   name|gender|avg(salary)|max(age)|\n",
              "+-------+------+-----------+--------+\n",
              "|     ML|     F|      150.0|      60|\n",
              "|PySpark|     M|       75.0|      50|\n",
              "+-------+------+-----------+--------+\n",
              "\n",
              "Notes\n",
              "-----\n",
              "A DataFrame should only be created as described above. It should not be directly\n",
              "created via using the constructor.</pre>\n",
              "      <script>\n",
              "      if (google.colab.kernel.accessAllowed && google.colab.files && google.colab.files.view) {\n",
              "        for (const element of document.querySelectorAll('.filepath')) {\n",
              "          element.style.display = 'block'\n",
              "          element.onclick = (event) => {\n",
              "            event.preventDefault();\n",
              "            event.stopPropagation();\n",
              "            google.colab.files.view(element.textContent, 80);\n",
              "          };\n",
              "        }\n",
              "      }\n",
              "      for (const element of document.querySelectorAll('.function-repr-contents')) {\n",
              "        element.onclick = (event) => {\n",
              "          event.preventDefault();\n",
              "          event.stopPropagation();\n",
              "          element.classList.toggle('function-repr-contents-collapsed');\n",
              "        };\n",
              "      }\n",
              "      </script>\n",
              "      </div>"
            ]
          },
          "metadata": {},
          "execution_count": 6
        }
      ],
      "source": [
        "type(df)"
      ]
    },
    {
      "cell_type": "code",
      "execution_count": 7,
      "metadata": {
        "id": "K6He7M9_88_U",
        "colab": {
          "base_uri": "https://localhost:8080/"
        },
        "outputId": "d27bdadf-49ed-45e4-eaa3-e0a4253ccd44"
      },
      "outputs": [
        {
          "output_type": "execute_result",
          "data": {
            "text/plain": [
              "[Row(Id='7f96b2f878858a', groupId='4d4b580de459be', matchId='a10357fd1a4a91', assists=0, boosts=0, damageDealt=0.0, DBNOs=0, headshotKills=0, heals=0, killPlace=60, killPoints=1241, kills=0, killStreaks=0, longestKill=0.0, matchDuration=1306, matchType='squad-fpp', maxPlace=28, numGroups=26, rankPoints=-1, revives=0, rideDistance=0.0, roadKills=0, swimDistance=0.0, teamKills=0, vehicleDestroys=0, walkDistance=244.8, weaponsAcquired=1, winPoints=1466, winPlacePerc=0.4444),\n",
              " Row(Id='eef90569b9d03c', groupId='684d5656442f9e', matchId='aeb375fc57110c', assists=0, boosts=0, damageDealt=91.47, DBNOs=0, headshotKills=0, heals=0, killPlace=57, killPoints=0, kills=0, killStreaks=0, longestKill=0.0, matchDuration=1777, matchType='squad-fpp', maxPlace=26, numGroups=25, rankPoints=1484, revives=0, rideDistance=0.0045, roadKills=0, swimDistance=11.04, teamKills=0, vehicleDestroys=0, walkDistance=1434.0, weaponsAcquired=5, winPoints=0, winPlacePerc=0.64),\n",
              " Row(Id='1eaf90ac73de72', groupId='6a4a42c3245a74', matchId='110163d8bb94ae', assists=1, boosts=0, damageDealt=68.0, DBNOs=0, headshotKills=0, heals=0, killPlace=47, killPoints=0, kills=0, killStreaks=0, longestKill=0.0, matchDuration=1318, matchType='duo', maxPlace=50, numGroups=47, rankPoints=1491, revives=0, rideDistance=0.0, roadKills=0, swimDistance=0.0, teamKills=0, vehicleDestroys=0, walkDistance=161.8, weaponsAcquired=2, winPoints=0, winPlacePerc=0.7755),\n",
              " Row(Id='4616d365dd2853', groupId='a930a9c79cd721', matchId='f1f1f4ef412d7e', assists=0, boosts=0, damageDealt=32.9, DBNOs=0, headshotKills=0, heals=0, killPlace=75, killPoints=0, kills=0, killStreaks=0, longestKill=0.0, matchDuration=1436, matchType='squad-fpp', maxPlace=31, numGroups=30, rankPoints=1408, revives=0, rideDistance=0.0, roadKills=0, swimDistance=0.0, teamKills=0, vehicleDestroys=0, walkDistance=202.7, weaponsAcquired=3, winPoints=0, winPlacePerc=0.1667),\n",
              " Row(Id='315c96c26c9aac', groupId='de04010b3458dd', matchId='6dc8ff871e21e6', assists=0, boosts=0, damageDealt=100.0, DBNOs=0, headshotKills=0, heals=0, killPlace=45, killPoints=0, kills=1, killStreaks=1, longestKill=58.53, matchDuration=1424, matchType='solo-fpp', maxPlace=97, numGroups=95, rankPoints=1560, revives=0, rideDistance=0.0, roadKills=0, swimDistance=0.0, teamKills=0, vehicleDestroys=0, walkDistance=49.75, weaponsAcquired=2, winPoints=0, winPlacePerc=0.1875)]"
            ]
          },
          "metadata": {},
          "execution_count": 7
        }
      ],
      "source": [
        "df.head(5)"
      ]
    },
    {
      "cell_type": "code",
      "execution_count": 8,
      "metadata": {
        "id": "Uy_vO82lCAd8",
        "colab": {
          "base_uri": "https://localhost:8080/"
        },
        "outputId": "55e0af80-2d2f-4a30-b3d9-a0a2fa4d9b94"
      },
      "outputs": [
        {
          "output_type": "stream",
          "name": "stdout",
          "text": [
            "+-------+--------------+--------------+--------------+-------------------+------------------+------------------+------------------+-------------------+------------------+------------------+------------------+------------------+------------------+-----------------+------------------+---------+------------------+------------------+-----------------+-------------------+------------------+--------------------+-----------------+-------------------+-------------------+------------------+------------------+-----------------+-------------------+\n",
            "|summary|            Id|       groupId|       matchId|            assists|            boosts|       damageDealt|             DBNOs|      headshotKills|             heals|         killPlace|        killPoints|             kills|       killStreaks|      longestKill|     matchDuration|matchType|          maxPlace|         numGroups|       rankPoints|            revives|      rideDistance|           roadKills|     swimDistance|          teamKills|    vehicleDestroys|      walkDistance|   weaponsAcquired|        winPoints|       winPlacePerc|\n",
            "+-------+--------------+--------------+--------------+-------------------+------------------+------------------+------------------+-------------------+------------------+------------------+------------------+------------------+------------------+-----------------+------------------+---------+------------------+------------------+-----------------+-------------------+------------------+--------------------+-----------------+-------------------+-------------------+------------------+------------------+-----------------+-------------------+\n",
            "|  count|       4446966|       4446966|       4446966|            4446966|           4446966|           4446966|           4446966|            4446966|           4446966|           4446966|           4446966|           4446966|           4446966|          4446966|           4446966|  4446966|           4446966|           4446966|          4446966|            4446966|           4446966|             4446966|          4446966|            4446966|            4446966|           4446966|           4446966|          4446966|            4446965|\n",
            "|   mean|      Infinity|      Infinity|      Infinity|0.23381492010507837|1.1069077209045448|130.71713789840132|0.6578755043326169|0.22681958890623405| 1.370147196987789| 47.59935020865912|505.00604209701623|0.9247833241810259| 0.543955137052993|22.99759484533923|1579.5064396714524|     NULL|44.504670150390176| 43.00759259234273|892.0104565674665|0.16465900571310868| 606.1156691540916|0.003496091492491...|4.509322451307245| 0.0238684082585745|0.00791820760491535|1154.2178590962735|3.6604876223474614|606.4601305699211|0.47282155272193915|\n",
            "| stddev|           NaN|           NaN|           NaN| 0.5885730871999953|1.7157936773815516|170.78062066696396|1.1457427249005612| 0.6021552757837271|2.6799822305289855|27.462937018409697| 627.5048962794015| 1.558444653227703|0.7109720924089302|50.97261881617954|258.73985646079535|     NULL|23.828105454921836|23.289494662858477|736.6477793343946|0.47216709823973146|1498.3435130715152| 0.07337296668394568|30.50219918203477|0.16739350254204813|0.09261156645325197|1183.4970417898285| 2.456543622958438| 739.700443956837| 0.3074049817000346|\n",
            "|    min|00000160737ebf|00000c08b5be36|0000a43bce5eec|                  0|                 0|               0.0|                 0|                  0|                 0|                 1|                 0|                 0|                 0|              0.0|                 9| crashfpp|                 1|                 1|               -1|                  0|               0.0|                   0|              0.0|                  0|                  0|               0.0|                 0|                0|                0.0|\n",
            "|    max|fffffddae4e502|fffff98178ef52|fffe92232706aa|                 22|                33|            6616.0|                53|                 64|                80|               101|              2170|                72|                20|           1094.0|              2237|squad-fpp|               100|               100|             5910|                 39|           40710.0|                  18|           3823.0|                 12|                  5|           25780.0|               236|             2013|                1.0|\n",
            "+-------+--------------+--------------+--------------+-------------------+------------------+------------------+------------------+-------------------+------------------+------------------+------------------+------------------+------------------+-----------------+------------------+---------+------------------+------------------+-----------------+-------------------+------------------+--------------------+-----------------+-------------------+-------------------+------------------+------------------+-----------------+-------------------+\n",
            "\n"
          ]
        }
      ],
      "source": [
        "df.describe().show()"
      ]
    },
    {
      "cell_type": "markdown",
      "metadata": {
        "id": "Yi5_qG8yMoXF"
      },
      "source": [
        "# **Exploratory Data** **Analysis**"
      ]
    },
    {
      "cell_type": "markdown",
      "source": [
        "# Sample the data\n",
        "# Example: % sample, without replacement\n",
        "fraction = 0.01\n",
        "sampled_data = df.sample(withReplacement=False, fraction=fraction, seed=42)\n",
        "\n",
        "# Convert to Pandas DataFrame\n",
        "pandas_df = sampled_data.toPandas()\n",
        "\n",
        "# Create the pairplot\n",
        "sns.pairplot(pandas_df)\n",
        "plt.show()"
      ],
      "metadata": {
        "id": "vOfcSbkLMLPD"
      }
    },
    {
      "cell_type": "code",
      "execution_count": 9,
      "metadata": {
        "id": "Tjb2uw6YZBBN",
        "colab": {
          "base_uri": "https://localhost:8080/",
          "height": 1000
        },
        "outputId": "0faf6adf-398f-48aa-d393-7fa9639db6b1"
      },
      "outputs": [
        {
          "output_type": "error",
          "ename": "Py4JJavaError",
          "evalue": "An error occurred while calling o33.collectToPython.\n: org.apache.spark.SparkException: Job aborted due to stage failure: Task 0 in stage 7.0 failed 1 times, most recent failure: Lost task 0.0 in stage 7.0 (TID 14) (89475db2160f executor driver): TaskResultLost (result lost from block manager)\nDriver stacktrace:\n\tat org.apache.spark.scheduler.DAGScheduler.failJobAndIndependentStages(DAGScheduler.scala:2856)\n\tat org.apache.spark.scheduler.DAGScheduler.$anonfun$abortStage$2(DAGScheduler.scala:2792)\n\tat org.apache.spark.scheduler.DAGScheduler.$anonfun$abortStage$2$adapted(DAGScheduler.scala:2791)\n\tat scala.collection.mutable.ResizableArray.foreach(ResizableArray.scala:62)\n\tat scala.collection.mutable.ResizableArray.foreach$(ResizableArray.scala:55)\n\tat scala.collection.mutable.ArrayBuffer.foreach(ArrayBuffer.scala:49)\n\tat org.apache.spark.scheduler.DAGScheduler.abortStage(DAGScheduler.scala:2791)\n\tat org.apache.spark.scheduler.DAGScheduler.$anonfun$handleTaskSetFailed$1(DAGScheduler.scala:1247)\n\tat org.apache.spark.scheduler.DAGScheduler.$anonfun$handleTaskSetFailed$1$adapted(DAGScheduler.scala:1247)\n\tat scala.Option.foreach(Option.scala:407)\n\tat org.apache.spark.scheduler.DAGScheduler.handleTaskSetFailed(DAGScheduler.scala:1247)\n\tat org.apache.spark.scheduler.DAGSchedulerEventProcessLoop.doOnReceive(DAGScheduler.scala:3060)\n\tat org.apache.spark.scheduler.DAGSchedulerEventProcessLoop.onReceive(DAGScheduler.scala:2994)\n\tat org.apache.spark.scheduler.DAGSchedulerEventProcessLoop.onReceive(DAGScheduler.scala:2983)\n\tat org.apache.spark.util.EventLoop$$anon$1.run(EventLoop.scala:49)\n\tat org.apache.spark.scheduler.DAGScheduler.runJob(DAGScheduler.scala:989)\n\tat org.apache.spark.SparkContext.runJob(SparkContext.scala:2393)\n\tat org.apache.spark.SparkContext.runJob(SparkContext.scala:2414)\n\tat org.apache.spark.SparkContext.runJob(SparkContext.scala:2433)\n\tat org.apache.spark.SparkContext.runJob(SparkContext.scala:2458)\n\tat org.apache.spark.rdd.RDD.$anonfun$collect$1(RDD.scala:1049)\n\tat org.apache.spark.rdd.RDDOperationScope$.withScope(RDDOperationScope.scala:151)\n\tat org.apache.spark.rdd.RDDOperationScope$.withScope(RDDOperationScope.scala:112)\n\tat org.apache.spark.rdd.RDD.withScope(RDD.scala:410)\n\tat org.apache.spark.rdd.RDD.collect(RDD.scala:1048)\n\tat org.apache.spark.sql.execution.SparkPlan.executeCollect(SparkPlan.scala:448)\n\tat org.apache.spark.sql.Dataset.$anonfun$collectToPython$1(Dataset.scala:4149)\n\tat org.apache.spark.sql.Dataset.$anonfun$withAction$2(Dataset.scala:4323)\n\tat org.apache.spark.sql.execution.QueryExecution$.withInternalError(QueryExecution.scala:546)\n\tat org.apache.spark.sql.Dataset.$anonfun$withAction$1(Dataset.scala:4321)\n\tat org.apache.spark.sql.execution.SQLExecution$.$anonfun$withNewExecutionId$6(SQLExecution.scala:125)\n\tat org.apache.spark.sql.execution.SQLExecution$.withSQLConfPropagated(SQLExecution.scala:201)\n\tat org.apache.spark.sql.execution.SQLExecution$.$anonfun$withNewExecutionId$1(SQLExecution.scala:108)\n\tat org.apache.spark.sql.SparkSession.withActive(SparkSession.scala:900)\n\tat org.apache.spark.sql.execution.SQLExecution$.withNewExecutionId(SQLExecution.scala:66)\n\tat org.apache.spark.sql.Dataset.withAction(Dataset.scala:4321)\n\tat org.apache.spark.sql.Dataset.collectToPython(Dataset.scala:4146)\n\tat java.base/jdk.internal.reflect.NativeMethodAccessorImpl.invoke0(Native Method)\n\tat java.base/jdk.internal.reflect.NativeMethodAccessorImpl.invoke(NativeMethodAccessorImpl.java:62)\n\tat java.base/jdk.internal.reflect.DelegatingMethodAccessorImpl.invoke(DelegatingMethodAccessorImpl.java:43)\n\tat java.base/java.lang.reflect.Method.invoke(Method.java:566)\n\tat py4j.reflection.MethodInvoker.invoke(MethodInvoker.java:244)\n\tat py4j.reflection.ReflectionEngine.invoke(ReflectionEngine.java:374)\n\tat py4j.Gateway.invoke(Gateway.java:282)\n\tat py4j.commands.AbstractCommand.invokeMethod(AbstractCommand.java:132)\n\tat py4j.commands.CallCommand.execute(CallCommand.java:79)\n\tat py4j.ClientServerConnection.waitForCommands(ClientServerConnection.java:182)\n\tat py4j.ClientServerConnection.run(ClientServerConnection.java:106)\n\tat java.base/java.lang.Thread.run(Thread.java:829)\n",
          "traceback": [
            "\u001b[0;31m---------------------------------------------------------------------------\u001b[0m",
            "\u001b[0;31mPy4JJavaError\u001b[0m                             Traceback (most recent call last)",
            "\u001b[0;32m<ipython-input-9-966769a58c17>\u001b[0m in \u001b[0;36m<cell line: 0>\u001b[0;34m()\u001b[0m\n\u001b[0;32m----> 1\u001b[0;31m \u001b[0mpandas_full\u001b[0m \u001b[0;34m=\u001b[0m \u001b[0mdf\u001b[0m\u001b[0;34m.\u001b[0m\u001b[0mtoPandas\u001b[0m\u001b[0;34m(\u001b[0m\u001b[0;34m)\u001b[0m\u001b[0;34m\u001b[0m\u001b[0;34m\u001b[0m\u001b[0m\n\u001b[0m",
            "\u001b[0;32m/usr/local/lib/python3.11/dist-packages/pyspark/sql/pandas/conversion.py\u001b[0m in \u001b[0;36mtoPandas\u001b[0;34m(self)\u001b[0m\n\u001b[1;32m    200\u001b[0m \u001b[0;34m\u001b[0m\u001b[0m\n\u001b[1;32m    201\u001b[0m         \u001b[0;31m# Below is toPandas without Arrow optimization.\u001b[0m\u001b[0;34m\u001b[0m\u001b[0;34m\u001b[0m\u001b[0m\n\u001b[0;32m--> 202\u001b[0;31m         \u001b[0mrows\u001b[0m \u001b[0;34m=\u001b[0m \u001b[0mself\u001b[0m\u001b[0;34m.\u001b[0m\u001b[0mcollect\u001b[0m\u001b[0;34m(\u001b[0m\u001b[0;34m)\u001b[0m\u001b[0;34m\u001b[0m\u001b[0;34m\u001b[0m\u001b[0m\n\u001b[0m\u001b[1;32m    203\u001b[0m         \u001b[0;32mif\u001b[0m \u001b[0mlen\u001b[0m\u001b[0;34m(\u001b[0m\u001b[0mrows\u001b[0m\u001b[0;34m)\u001b[0m \u001b[0;34m>\u001b[0m \u001b[0;36m0\u001b[0m\u001b[0;34m:\u001b[0m\u001b[0;34m\u001b[0m\u001b[0;34m\u001b[0m\u001b[0m\n\u001b[1;32m    204\u001b[0m             pdf = pd.DataFrame.from_records(\n",
            "\u001b[0;32m/usr/local/lib/python3.11/dist-packages/pyspark/sql/dataframe.py\u001b[0m in \u001b[0;36mcollect\u001b[0;34m(self)\u001b[0m\n\u001b[1;32m   1261\u001b[0m         \"\"\"\n\u001b[1;32m   1262\u001b[0m         \u001b[0;32mwith\u001b[0m \u001b[0mSCCallSiteSync\u001b[0m\u001b[0;34m(\u001b[0m\u001b[0mself\u001b[0m\u001b[0;34m.\u001b[0m\u001b[0m_sc\u001b[0m\u001b[0;34m)\u001b[0m\u001b[0;34m:\u001b[0m\u001b[0;34m\u001b[0m\u001b[0;34m\u001b[0m\u001b[0m\n\u001b[0;32m-> 1263\u001b[0;31m             \u001b[0msock_info\u001b[0m \u001b[0;34m=\u001b[0m \u001b[0mself\u001b[0m\u001b[0;34m.\u001b[0m\u001b[0m_jdf\u001b[0m\u001b[0;34m.\u001b[0m\u001b[0mcollectToPython\u001b[0m\u001b[0;34m(\u001b[0m\u001b[0;34m)\u001b[0m\u001b[0;34m\u001b[0m\u001b[0;34m\u001b[0m\u001b[0m\n\u001b[0m\u001b[1;32m   1264\u001b[0m         \u001b[0;32mreturn\u001b[0m \u001b[0mlist\u001b[0m\u001b[0;34m(\u001b[0m\u001b[0m_load_from_socket\u001b[0m\u001b[0;34m(\u001b[0m\u001b[0msock_info\u001b[0m\u001b[0;34m,\u001b[0m \u001b[0mBatchedSerializer\u001b[0m\u001b[0;34m(\u001b[0m\u001b[0mCPickleSerializer\u001b[0m\u001b[0;34m(\u001b[0m\u001b[0;34m)\u001b[0m\u001b[0;34m)\u001b[0m\u001b[0;34m)\u001b[0m\u001b[0;34m)\u001b[0m\u001b[0;34m\u001b[0m\u001b[0;34m\u001b[0m\u001b[0m\n\u001b[1;32m   1265\u001b[0m \u001b[0;34m\u001b[0m\u001b[0m\n",
            "\u001b[0;32m/usr/local/lib/python3.11/dist-packages/py4j/java_gateway.py\u001b[0m in \u001b[0;36m__call__\u001b[0;34m(self, *args)\u001b[0m\n\u001b[1;32m   1320\u001b[0m \u001b[0;34m\u001b[0m\u001b[0m\n\u001b[1;32m   1321\u001b[0m         \u001b[0manswer\u001b[0m \u001b[0;34m=\u001b[0m \u001b[0mself\u001b[0m\u001b[0;34m.\u001b[0m\u001b[0mgateway_client\u001b[0m\u001b[0;34m.\u001b[0m\u001b[0msend_command\u001b[0m\u001b[0;34m(\u001b[0m\u001b[0mcommand\u001b[0m\u001b[0;34m)\u001b[0m\u001b[0;34m\u001b[0m\u001b[0;34m\u001b[0m\u001b[0m\n\u001b[0;32m-> 1322\u001b[0;31m         return_value = get_return_value(\n\u001b[0m\u001b[1;32m   1323\u001b[0m             answer, self.gateway_client, self.target_id, self.name)\n\u001b[1;32m   1324\u001b[0m \u001b[0;34m\u001b[0m\u001b[0m\n",
            "\u001b[0;32m/usr/local/lib/python3.11/dist-packages/pyspark/errors/exceptions/captured.py\u001b[0m in \u001b[0;36mdeco\u001b[0;34m(*a, **kw)\u001b[0m\n\u001b[1;32m    177\u001b[0m     \u001b[0;32mdef\u001b[0m \u001b[0mdeco\u001b[0m\u001b[0;34m(\u001b[0m\u001b[0;34m*\u001b[0m\u001b[0ma\u001b[0m\u001b[0;34m:\u001b[0m \u001b[0mAny\u001b[0m\u001b[0;34m,\u001b[0m \u001b[0;34m**\u001b[0m\u001b[0mkw\u001b[0m\u001b[0;34m:\u001b[0m \u001b[0mAny\u001b[0m\u001b[0;34m)\u001b[0m \u001b[0;34m->\u001b[0m \u001b[0mAny\u001b[0m\u001b[0;34m:\u001b[0m\u001b[0;34m\u001b[0m\u001b[0;34m\u001b[0m\u001b[0m\n\u001b[1;32m    178\u001b[0m         \u001b[0;32mtry\u001b[0m\u001b[0;34m:\u001b[0m\u001b[0;34m\u001b[0m\u001b[0;34m\u001b[0m\u001b[0m\n\u001b[0;32m--> 179\u001b[0;31m             \u001b[0;32mreturn\u001b[0m \u001b[0mf\u001b[0m\u001b[0;34m(\u001b[0m\u001b[0;34m*\u001b[0m\u001b[0ma\u001b[0m\u001b[0;34m,\u001b[0m \u001b[0;34m**\u001b[0m\u001b[0mkw\u001b[0m\u001b[0;34m)\u001b[0m\u001b[0;34m\u001b[0m\u001b[0;34m\u001b[0m\u001b[0m\n\u001b[0m\u001b[1;32m    180\u001b[0m         \u001b[0;32mexcept\u001b[0m \u001b[0mPy4JJavaError\u001b[0m \u001b[0;32mas\u001b[0m \u001b[0me\u001b[0m\u001b[0;34m:\u001b[0m\u001b[0;34m\u001b[0m\u001b[0;34m\u001b[0m\u001b[0m\n\u001b[1;32m    181\u001b[0m             \u001b[0mconverted\u001b[0m \u001b[0;34m=\u001b[0m \u001b[0mconvert_exception\u001b[0m\u001b[0;34m(\u001b[0m\u001b[0me\u001b[0m\u001b[0;34m.\u001b[0m\u001b[0mjava_exception\u001b[0m\u001b[0;34m)\u001b[0m\u001b[0;34m\u001b[0m\u001b[0;34m\u001b[0m\u001b[0m\n",
            "\u001b[0;32m/usr/local/lib/python3.11/dist-packages/py4j/protocol.py\u001b[0m in \u001b[0;36mget_return_value\u001b[0;34m(answer, gateway_client, target_id, name)\u001b[0m\n\u001b[1;32m    324\u001b[0m             \u001b[0mvalue\u001b[0m \u001b[0;34m=\u001b[0m \u001b[0mOUTPUT_CONVERTER\u001b[0m\u001b[0;34m[\u001b[0m\u001b[0mtype\u001b[0m\u001b[0;34m]\u001b[0m\u001b[0;34m(\u001b[0m\u001b[0manswer\u001b[0m\u001b[0;34m[\u001b[0m\u001b[0;36m2\u001b[0m\u001b[0;34m:\u001b[0m\u001b[0;34m]\u001b[0m\u001b[0;34m,\u001b[0m \u001b[0mgateway_client\u001b[0m\u001b[0;34m)\u001b[0m\u001b[0;34m\u001b[0m\u001b[0;34m\u001b[0m\u001b[0m\n\u001b[1;32m    325\u001b[0m             \u001b[0;32mif\u001b[0m \u001b[0manswer\u001b[0m\u001b[0;34m[\u001b[0m\u001b[0;36m1\u001b[0m\u001b[0;34m]\u001b[0m \u001b[0;34m==\u001b[0m \u001b[0mREFERENCE_TYPE\u001b[0m\u001b[0;34m:\u001b[0m\u001b[0;34m\u001b[0m\u001b[0;34m\u001b[0m\u001b[0m\n\u001b[0;32m--> 326\u001b[0;31m                 raise Py4JJavaError(\n\u001b[0m\u001b[1;32m    327\u001b[0m                     \u001b[0;34m\"An error occurred while calling {0}{1}{2}.\\n\"\u001b[0m\u001b[0;34m.\u001b[0m\u001b[0;34m\u001b[0m\u001b[0;34m\u001b[0m\u001b[0m\n\u001b[1;32m    328\u001b[0m                     format(target_id, \".\", name), value)\n",
            "\u001b[0;31mPy4JJavaError\u001b[0m: An error occurred while calling o33.collectToPython.\n: org.apache.spark.SparkException: Job aborted due to stage failure: Task 0 in stage 7.0 failed 1 times, most recent failure: Lost task 0.0 in stage 7.0 (TID 14) (89475db2160f executor driver): TaskResultLost (result lost from block manager)\nDriver stacktrace:\n\tat org.apache.spark.scheduler.DAGScheduler.failJobAndIndependentStages(DAGScheduler.scala:2856)\n\tat org.apache.spark.scheduler.DAGScheduler.$anonfun$abortStage$2(DAGScheduler.scala:2792)\n\tat org.apache.spark.scheduler.DAGScheduler.$anonfun$abortStage$2$adapted(DAGScheduler.scala:2791)\n\tat scala.collection.mutable.ResizableArray.foreach(ResizableArray.scala:62)\n\tat scala.collection.mutable.ResizableArray.foreach$(ResizableArray.scala:55)\n\tat scala.collection.mutable.ArrayBuffer.foreach(ArrayBuffer.scala:49)\n\tat org.apache.spark.scheduler.DAGScheduler.abortStage(DAGScheduler.scala:2791)\n\tat org.apache.spark.scheduler.DAGScheduler.$anonfun$handleTaskSetFailed$1(DAGScheduler.scala:1247)\n\tat org.apache.spark.scheduler.DAGScheduler.$anonfun$handleTaskSetFailed$1$adapted(DAGScheduler.scala:1247)\n\tat scala.Option.foreach(Option.scala:407)\n\tat org.apache.spark.scheduler.DAGScheduler.handleTaskSetFailed(DAGScheduler.scala:1247)\n\tat org.apache.spark.scheduler.DAGSchedulerEventProcessLoop.doOnReceive(DAGScheduler.scala:3060)\n\tat org.apache.spark.scheduler.DAGSchedulerEventProcessLoop.onReceive(DAGScheduler.scala:2994)\n\tat org.apache.spark.scheduler.DAGSchedulerEventProcessLoop.onReceive(DAGScheduler.scala:2983)\n\tat org.apache.spark.util.EventLoop$$anon$1.run(EventLoop.scala:49)\n\tat org.apache.spark.scheduler.DAGScheduler.runJob(DAGScheduler.scala:989)\n\tat org.apache.spark.SparkContext.runJob(SparkContext.scala:2393)\n\tat org.apache.spark.SparkContext.runJob(SparkContext.scala:2414)\n\tat org.apache.spark.SparkContext.runJob(SparkContext.scala:2433)\n\tat org.apache.spark.SparkContext.runJob(SparkContext.scala:2458)\n\tat org.apache.spark.rdd.RDD.$anonfun$collect$1(RDD.scala:1049)\n\tat org.apache.spark.rdd.RDDOperationScope$.withScope(RDDOperationScope.scala:151)\n\tat org.apache.spark.rdd.RDDOperationScope$.withScope(RDDOperationScope.scala:112)\n\tat org.apache.spark.rdd.RDD.withScope(RDD.scala:410)\n\tat org.apache.spark.rdd.RDD.collect(RDD.scala:1048)\n\tat org.apache.spark.sql.execution.SparkPlan.executeCollect(SparkPlan.scala:448)\n\tat org.apache.spark.sql.Dataset.$anonfun$collectToPython$1(Dataset.scala:4149)\n\tat org.apache.spark.sql.Dataset.$anonfun$withAction$2(Dataset.scala:4323)\n\tat org.apache.spark.sql.execution.QueryExecution$.withInternalError(QueryExecution.scala:546)\n\tat org.apache.spark.sql.Dataset.$anonfun$withAction$1(Dataset.scala:4321)\n\tat org.apache.spark.sql.execution.SQLExecution$.$anonfun$withNewExecutionId$6(SQLExecution.scala:125)\n\tat org.apache.spark.sql.execution.SQLExecution$.withSQLConfPropagated(SQLExecution.scala:201)\n\tat org.apache.spark.sql.execution.SQLExecution$.$anonfun$withNewExecutionId$1(SQLExecution.scala:108)\n\tat org.apache.spark.sql.SparkSession.withActive(SparkSession.scala:900)\n\tat org.apache.spark.sql.execution.SQLExecution$.withNewExecutionId(SQLExecution.scala:66)\n\tat org.apache.spark.sql.Dataset.withAction(Dataset.scala:4321)\n\tat org.apache.spark.sql.Dataset.collectToPython(Dataset.scala:4146)\n\tat java.base/jdk.internal.reflect.NativeMethodAccessorImpl.invoke0(Native Method)\n\tat java.base/jdk.internal.reflect.NativeMethodAccessorImpl.invoke(NativeMethodAccessorImpl.java:62)\n\tat java.base/jdk.internal.reflect.DelegatingMethodAccessorImpl.invoke(DelegatingMethodAccessorImpl.java:43)\n\tat java.base/java.lang.reflect.Method.invoke(Method.java:566)\n\tat py4j.reflection.MethodInvoker.invoke(MethodInvoker.java:244)\n\tat py4j.reflection.ReflectionEngine.invoke(ReflectionEngine.java:374)\n\tat py4j.Gateway.invoke(Gateway.java:282)\n\tat py4j.commands.AbstractCommand.invokeMethod(AbstractCommand.java:132)\n\tat py4j.commands.CallCommand.execute(CallCommand.java:79)\n\tat py4j.ClientServerConnection.waitForCommands(ClientServerConnection.java:182)\n\tat py4j.ClientServerConnection.run(ClientServerConnection.java:106)\n\tat java.base/java.lang.Thread.run(Thread.java:829)\n"
          ]
        }
      ],
      "source": [
        "pandas_full = df.toPandas()"
      ]
    },
    {
      "cell_type": "code",
      "execution_count": null,
      "metadata": {
        "id": "g5bLgNm6XjZf"
      },
      "outputs": [],
      "source": [
        "# Analyzing assists and winPlacePerc\n",
        "sns.relplot(x='assists',y='winPlacePerc',data=pandas_full)\n",
        "# assists are not showing much trend for the winPlacePerc."
      ]
    },
    {
      "cell_type": "code",
      "source": [
        "# Analyzing assists and winPlacePerc\n",
        "sns.relplot(x='killPlace',y='winPlacePerc',data=pandas_full)\n",
        "# killPlace are not showing much trend for the winPlacePerc."
      ],
      "metadata": {
        "id": "M62KUsUghTk2"
      },
      "execution_count": null,
      "outputs": []
    },
    {
      "cell_type": "code",
      "source": [
        "# Analyzing assists and winPlacePerc\n",
        "sns.relplot(x='DBNOs',y='winPlacePerc',data=pandas_full)\n",
        "# killPlace are showing trend for the winPlacePerc."
      ],
      "metadata": {
        "id": "CHr277xEiGYi"
      },
      "execution_count": null,
      "outputs": []
    },
    {
      "cell_type": "code",
      "source": [
        "# Analyzing assists and winPlacePerc\n",
        "sns.relplot(x='killPoints',y='winPlacePerc',data=pandas_full)\n",
        "# killPoints are not showing much trend for the winPlacePerc"
      ],
      "metadata": {
        "id": "v73qLkaFiX6c"
      },
      "execution_count": null,
      "outputs": []
    },
    {
      "cell_type": "code",
      "source": [
        "# Analyzing assists and winPlacePerc\n",
        "sns.relplot(x='killStreaks',y='winPlacePerc',data=pandas_full)\n",
        "# killStreaks are showing trend for the winPlacePerc"
      ],
      "metadata": {
        "id": "yoxX239Tiu7O"
      },
      "execution_count": null,
      "outputs": []
    },
    {
      "cell_type": "code",
      "source": [
        "# Analyzing assists and winPlacePerc\n",
        "sns.relplot(x='roadKills',y='winPlacePerc',data=pandas_full)\n",
        "# roadKills are showing trend for the winPlacePerc"
      ],
      "metadata": {
        "id": "kxYdpniZmxRP"
      },
      "execution_count": null,
      "outputs": []
    },
    {
      "cell_type": "code",
      "source": [
        "# Analyzing assists and winPlacePerc\n",
        "sns.relplot(x='swimDistance',y='winPlacePerc',data=pandas_full)\n",
        "# swimDistance are showing trend for the winPlacePerc"
      ],
      "metadata": {
        "id": "e9A_IwN-m6o9"
      },
      "execution_count": null,
      "outputs": []
    },
    {
      "cell_type": "code",
      "source": [
        "# Analyzing assists and winPlacePerc\n",
        "sns.relplot(x='teamKills',y='winPlacePerc',data=pandas_full)\n",
        "# teamKills are not showing trend for the winPlacePerc"
      ],
      "metadata": {
        "id": "nM7H8i2MnEOc"
      },
      "execution_count": null,
      "outputs": []
    },
    {
      "cell_type": "code",
      "source": [
        "# Analyzing assists and winPlacePerc\n",
        "sns.relplot(x='vehicleDestroys',y='winPlacePerc',data=pandas_full)\n",
        "# vehicleDestroys are not showing trend for the winPlacePerc"
      ],
      "metadata": {
        "id": "B9jbyil4nYAb"
      },
      "execution_count": null,
      "outputs": []
    },
    {
      "cell_type": "code",
      "source": [
        "# Analyzing assists and winPlacePerc\n",
        "sns.relplot(x='winPoints',y='winPlacePerc',data=pandas_full)\n",
        "# winPoints are not showing trend for the winPlacePerc"
      ],
      "metadata": {
        "id": "XLhGKTdgn3b8"
      },
      "execution_count": null,
      "outputs": []
    },
    {
      "cell_type": "markdown",
      "source": [
        "# **Data Pre-processing**"
      ],
      "metadata": {
        "id": "yqD-3HsAoP-r"
      }
    },
    {
      "cell_type": "markdown",
      "source": [
        "##  Checking for null values"
      ],
      "metadata": {
        "id": "3uaj-pUho0S-"
      }
    },
    {
      "cell_type": "code",
      "source": [
        "from pyspark.sql.functions import count, when, col\n",
        "\n",
        "# Get the column names from the DataFrame\n",
        "columns_to_check = ['assists', 'boosts', 'damageDealt', 'DBNOs', 'headshotKills', 'heals', 'killPlace', 'killPoints', 'kills', 'killStreaks', 'longestKill', 'matchDuration', 'maxPlace', 'numGroups', 'rankPoints', 'revives', 'rideDistance', 'roadKills', 'swimDistance', 'teamKills', 'vehicleDestroys', 'walkDistance', 'weaponsAcquired', 'winPoints', 'winPlacePerc', 'matchType']\n",
        "\n",
        "null_counts = df.select([count(when(col(c).isNull(), c)).alias(c) for c in columns_to_check])\n",
        "\n",
        "# Show the results\n",
        "null_counts.show()"
      ],
      "metadata": {
        "id": "UDfUgW7hUGHQ"
      },
      "execution_count": null,
      "outputs": []
    },
    {
      "cell_type": "code",
      "source": [
        "from pyspark.sql.functions import count, when, col\n",
        "\n",
        "# Create a boolean column indicating if any column in a row is null\n",
        "null_row_indicator = sum([when(col(c).isNull(), 1).otherwise(0) for c in df.columns]) > 0\n",
        "\n",
        "# Count the number of rows where the null_row_indicator is True\n",
        "null_row_count = df.filter(null_row_indicator).count()\n",
        "print(null_row_count)"
      ],
      "metadata": {
        "id": "PZSTKTc1WJWX"
      },
      "execution_count": null,
      "outputs": []
    },
    {
      "cell_type": "code",
      "source": [
        "df = df.dropna()"
      ],
      "metadata": {
        "id": "Y4DAZ9RSWiSc"
      },
      "execution_count": null,
      "outputs": []
    },
    {
      "cell_type": "code",
      "source": [
        "null_counts = df.select([count(when(col(c).isNull(), c)).alias(c) for c in df.columns])\n",
        "\n",
        "# Show the results\n",
        "null_counts.show() #Droping null values as its just one row."
      ],
      "metadata": {
        "id": "RJyDXE44Ws08"
      },
      "execution_count": null,
      "outputs": []
    },
    {
      "cell_type": "markdown",
      "source": [
        "## Handling Categorical Value"
      ],
      "metadata": {
        "id": "EgbqX06_t_Gq"
      }
    },
    {
      "cell_type": "code",
      "source": [
        "from pyspark.ml.feature import StringIndexer\n",
        "indexer=StringIndexer(inputCol=\"matchType\",outputCol=\"matchType_\")\n",
        "df=indexer.fit(df).transform(df)\n",
        "df.show()"
      ],
      "metadata": {
        "id": "et67_00foV0n"
      },
      "execution_count": null,
      "outputs": []
    },
    {
      "cell_type": "code",
      "source": [
        "df=df.drop('Id','groupId','matchId','matchType') #Dropping these 'Id','groupId','matchId' columns as they are not required for predection and match type as we have indexed it with new column."
      ],
      "metadata": {
        "id": "c878jJszp4Lt"
      },
      "execution_count": null,
      "outputs": []
    },
    {
      "cell_type": "code",
      "source": [
        "df.show() #All the categorical data has been handled."
      ],
      "metadata": {
        "id": "B1oaOfExqneT"
      },
      "execution_count": null,
      "outputs": []
    },
    {
      "cell_type": "markdown",
      "source": [
        "# Handling Outliers"
      ],
      "metadata": {
        "id": "9tQzAlIS_6V_"
      }
    },
    {
      "cell_type": "code",
      "source": [
        "pandas_updated = df.toPandas()"
      ],
      "metadata": {
        "id": "RnujAI4BJrTW"
      },
      "execution_count": null,
      "outputs": []
    },
    {
      "cell_type": "code",
      "source": [
        "column_names = pandas_updated.columns.tolist()\n",
        "print(column_names)"
      ],
      "metadata": {
        "id": "bxDTQ74xaMm7"
      },
      "execution_count": null,
      "outputs": []
    },
    {
      "cell_type": "code",
      "source": [
        "# List of the columns for which you want to create boxplots\n",
        "columns = ['assists', 'boosts', 'damageDealt', 'DBNOs', 'headshotKills', 'heals', 'killPlace', 'killPoints', 'kills', 'killStreaks', 'longestKill', 'matchDuration', 'maxPlace', 'numGroups', 'rankPoints', 'revives', 'rideDistance', 'roadKills', 'swimDistance', 'teamKills', 'vehicleDestroys', 'walkDistance', 'weaponsAcquired', 'winPoints', 'winPlacePerc', 'matchType_']\n",
        "\n",
        "# Set up the figure for multiple subplots\n",
        "plt.figure(figsize=(20, 30))  # Adjust the size to fit all plots nicely\n",
        "\n",
        "# Loop over each column to create a separate box plot\n",
        "for i, column in enumerate(columns, 1):\n",
        "    plt.subplot(9, 3, i)  # 7 rows, 3 columns of subplots\n",
        "    sns.boxplot(x=column, data=pandas_updated)\n",
        "    plt.title(f'Boxplot of {column}')\n",
        "\n",
        "# Adjust the layout to prevent overlap\n",
        "plt.tight_layout()\n",
        "plt.show()"
      ],
      "metadata": {
        "id": "bD9KOHwkrFaZ"
      },
      "execution_count": null,
      "outputs": []
    },
    {
      "cell_type": "code",
      "source": [
        "sns.boxplot(x='assists',data=pandas_updated)"
      ],
      "metadata": {
        "id": "IRcrKoTUrFcn"
      },
      "execution_count": null,
      "outputs": []
    },
    {
      "cell_type": "markdown",
      "source": [],
      "metadata": {
        "id": "xTgOsOx8uLDt"
      }
    },
    {
      "cell_type": "code",
      "source": [],
      "metadata": {
        "id": "8wKbIp82rFfW"
      },
      "execution_count": null,
      "outputs": []
    },
    {
      "cell_type": "code",
      "source": [
        "#spark.stop()"
      ],
      "metadata": {
        "id": "v2febTcZrFh9"
      },
      "execution_count": null,
      "outputs": []
    }
  ],
  "metadata": {
    "colab": {
      "provenance": [],
      "toc_visible": true
    },
    "kernelspec": {
      "display_name": "Python 3",
      "name": "python3"
    },
    "language_info": {
      "name": "python"
    }
  },
  "nbformat": 4,
  "nbformat_minor": 0
}